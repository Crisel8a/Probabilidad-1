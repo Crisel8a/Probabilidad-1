{
  "nbformat": 4,
  "nbformat_minor": 0,
  "metadata": {
    "colab": {
      "provenance": [],
      "authorship_tag": "ABX9TyPfqqDB7/sqLCPAt+Mhf3TW",
      "include_colab_link": true
    },
    "kernelspec": {
      "name": "python3",
      "display_name": "Python 3"
    },
    "language_info": {
      "name": "python"
    }
  },
  "cells": [
    {
      "cell_type": "markdown",
      "metadata": {
        "id": "view-in-github",
        "colab_type": "text"
      },
      "source": [
        "<a href=\"https://colab.research.google.com/github/Crisel8a/Probabilidad-1/blob/main/Clasificador.ipynb\" target=\"_parent\"><img src=\"https://colab.research.google.com/assets/colab-badge.svg\" alt=\"Open In Colab\"/></a>"
      ]
    },
    {
      "cell_type": "markdown",
      "source": [
        "<h1 align=\"center\" style=\"color: #cd7f32;\"> Machine Learning Cuántico </h1>\n",
        "Con ❤ por Crisel y Joules @ESFM Jornadas Académicas de Didáctica de las Ciencias 2023"
      ],
      "metadata": {
        "id": "Zasmh1F7pW8d"
      }
    },
    {
      "cell_type": "markdown",
      "source": [
        "# Machine Learning Clásico "
      ],
      "metadata": {
        "id": "YrJWnX0XAdVs"
      }
    },
    {
      "cell_type": "markdown",
      "source": [
        "\n",
        "## ¿Qué es el machine Learning?\n",
        "Es una rama de la *Inteligencia artificial*  que desarrolla técnicas que permitan a las máquinas aprender. Es muy común y efectivo hacer estas técnicas a base de datos más que con códigos. Mientras más datos, más preciso nuestro modelo. Este proceso iterativo de modelos online conduce a una mejora en los tipos de asociaciones hechas entre los elementos de datos. Debido a su complejidad y tamaño, estos patrones y asociaciones podrían haber sido fácilmente pasados por alto por la observación humana. Después de que un modelo ha sido entrenado, se puede utilizar en tiempo real para aprender de los datos. Las mejoras en la precisión son el resultado del proceso de entrenamiento y la automatización que forman parte del machine learning. Sin embargo, esta comprobado que el exceso de datos puede generar un daño a nuestro aprendizaje, para optimizar esto se han desarrollado diferentes técnicas de aprendizaje deendiendo del problema, por mencionar algunas:\n",
        "\n",
        "\n",
        "\n",
        "- **Aprendizaje Supervisado**: Comenzamos con un conjunto establecido de datos bien identificados, es decir, con cierta clásificación ya determinada. Este tpo de aprendizaje tiene la intención de encontrar patrones en datos que características etiquetadas que definen su significado Por ejemplo, se puede crear una aplicación de machine learning con base en imágenes de perros y gatos y que al poner una imagen sin clásificación sepa identificar si es perro o gato.\n",
        "- **Aprendizaje no Supervisado**: Se utiliza cuando el problema requiere una cantidad masiva de datos sin etiquetar. Por ejemplo, las aplicaciones de redes sociales. La comprensión del significado detrás de estos datos requiere algoritmos que clasifican los datos con base en los patrones que encuentra. El aprendizaje no supervisado lleva a cabo un proceso iterativo, analizando los datos sin intervención humana. Se utiliza con la tecnología de detección de spam en e-mails. \n",
        "- **Aprendizaje de refuerzo**: El aprendizaje de refuerzo es un modelo de aprendizaje conductual. El algoritmo recibe retroalimentación del análisis de datos, conduciendo el usuario hacia el mejor resultado. El aprendizaje de refuerzo difiere de otros tipos de aprendizaje supervisado, porque el sistema no está entrenado con el conjunto de datos de ejemplo. Más bien, el sistema aprende a través de la prueba y el error. Por lo tanto, una secuencia de decisiones exitosas conduce al fortalecimiento del proceso, porque es el que resuelve el problema de manera más efectiva.\n",
        "\n",
        "- **Deep Learning**:El deep learning es un método específico de machine learning que incorpora las redes neuronales en capas sucesivas para aprender de los datos de manera iterativa. El deep learning es especialmente útil cuando se trata de aprender patrones de datos no estructurados. Las redes neuronales complejas de deep learning están diseñadas para emular cómo funciona el cerebro humano, así que las computadoras pueden ser entrenadas para lidiar con abstracciones y problemas mal definidos. Las redes neuronales y el deep learning se utilizan a menudo en el reconocimiento de imágenes, voz y aplicaciones de visión de computadora."
      ],
      "metadata": {
        "id": "81uShSNNpqQF"
      }
    },
    {
      "cell_type": "markdown",
      "source": [
        "# Progrmando el Clasificador"
      ],
      "metadata": {
        "id": "ekcGrV5jpeXM"
      }
    },
    {
      "cell_type": "code",
      "source": [
        "!pip3 install pennylane"
      ],
      "metadata": {
        "colab": {
          "base_uri": "https://localhost:8080/"
        },
        "id": "BxBjV-d0pLT-",
        "outputId": "abfdbe64-69e6-419d-a139-931d0b624cc9"
      },
      "execution_count": 3,
      "outputs": [
        {
          "output_type": "stream",
          "name": "stdout",
          "text": [
            "Looking in indexes: https://pypi.org/simple, https://us-python.pkg.dev/colab-wheels/public/simple/\n",
            "Collecting pennylane\n",
            "  Downloading PennyLane-0.28.0-py3-none-any.whl (1.3 MB)\n",
            "\u001b[2K     \u001b[90m━━━━━━━━━━━━━━━━━━━━━━━━━━━━━━━━━━━━━━━━\u001b[0m \u001b[32m1.3/1.3 MB\u001b[0m \u001b[31m40.2 MB/s\u001b[0m eta \u001b[36m0:00:00\u001b[0m\n",
            "\u001b[?25hCollecting semantic-version>=2.7\n",
            "  Downloading semantic_version-2.10.0-py2.py3-none-any.whl (15 kB)\n",
            "Requirement already satisfied: requests in /usr/local/lib/python3.8/dist-packages (from pennylane) (2.25.1)\n",
            "Collecting autoray>=0.3.1\n",
            "  Downloading autoray-0.6.0-py3-none-any.whl (46 kB)\n",
            "\u001b[2K     \u001b[90m━━━━━━━━━━━━━━━━━━━━━━━━━━━━━━━━━━━━━━━━\u001b[0m \u001b[32m46.4/46.4 KB\u001b[0m \u001b[31m4.0 MB/s\u001b[0m eta \u001b[36m0:00:00\u001b[0m\n",
            "\u001b[?25hRequirement already satisfied: networkx in /usr/local/lib/python3.8/dist-packages (from pennylane) (3.0)\n",
            "Requirement already satisfied: appdirs in /usr/local/lib/python3.8/dist-packages (from pennylane) (1.4.4)\n",
            "Requirement already satisfied: numpy<1.24 in /usr/local/lib/python3.8/dist-packages (from pennylane) (1.21.6)\n",
            "Collecting retworkx\n",
            "  Downloading retworkx-0.12.1-py3-none-any.whl (10 kB)\n",
            "Requirement already satisfied: cachetools in /usr/local/lib/python3.8/dist-packages (from pennylane) (5.3.0)\n",
            "Requirement already satisfied: autograd in /usr/local/lib/python3.8/dist-packages (from pennylane) (1.5)\n",
            "Collecting pennylane-lightning>=0.28\n",
            "  Downloading PennyLane_Lightning-0.28.2-cp38-cp38-manylinux_2_17_x86_64.manylinux2014_x86_64.whl (15.3 MB)\n",
            "\u001b[2K     \u001b[90m━━━━━━━━━━━━━━━━━━━━━━━━━━━━━━━━━━━━━━━━\u001b[0m \u001b[32m15.3/15.3 MB\u001b[0m \u001b[31m61.1 MB/s\u001b[0m eta \u001b[36m0:00:00\u001b[0m\n",
            "\u001b[?25hRequirement already satisfied: scipy in /usr/local/lib/python3.8/dist-packages (from pennylane) (1.7.3)\n",
            "Requirement already satisfied: toml in /usr/local/lib/python3.8/dist-packages (from pennylane) (0.10.2)\n",
            "Collecting ninja\n",
            "  Downloading ninja-1.11.1-py2.py3-none-manylinux_2_12_x86_64.manylinux2010_x86_64.whl (145 kB)\n",
            "\u001b[2K     \u001b[90m━━━━━━━━━━━━━━━━━━━━━━━━━━━━━━━━━━━━━━\u001b[0m \u001b[32m146.0/146.0 KB\u001b[0m \u001b[31m16.4 MB/s\u001b[0m eta \u001b[36m0:00:00\u001b[0m\n",
            "\u001b[?25hRequirement already satisfied: future>=0.15.2 in /usr/local/lib/python3.8/dist-packages (from autograd->pennylane) (0.16.0)\n",
            "Requirement already satisfied: urllib3<1.27,>=1.21.1 in /usr/local/lib/python3.8/dist-packages (from requests->pennylane) (1.24.3)\n",
            "Requirement already satisfied: certifi>=2017.4.17 in /usr/local/lib/python3.8/dist-packages (from requests->pennylane) (2022.12.7)\n",
            "Requirement already satisfied: idna<3,>=2.5 in /usr/local/lib/python3.8/dist-packages (from requests->pennylane) (2.10)\n",
            "Requirement already satisfied: chardet<5,>=3.0.2 in /usr/local/lib/python3.8/dist-packages (from requests->pennylane) (4.0.0)\n",
            "Collecting rustworkx==0.12.1\n",
            "  Downloading rustworkx-0.12.1-cp38-cp38-manylinux_2_17_x86_64.manylinux2014_x86_64.whl (1.9 MB)\n",
            "\u001b[2K     \u001b[90m━━━━━━━━━━━━━━━━━━━━━━━━━━━━━━━━━━━━━━━━\u001b[0m \u001b[32m1.9/1.9 MB\u001b[0m \u001b[31m68.5 MB/s\u001b[0m eta \u001b[36m0:00:00\u001b[0m\n",
            "\u001b[?25hInstalling collected packages: ninja, semantic-version, rustworkx, autoray, retworkx, pennylane-lightning, pennylane\n",
            "Successfully installed autoray-0.6.0 ninja-1.11.1 pennylane-0.28.0 pennylane-lightning-0.28.2 retworkx-0.12.1 rustworkx-0.12.1 semantic-version-2.10.0\n"
          ]
        }
      ]
    },
    {
      "cell_type": "code",
      "source": [
        "import pennylane as qml\n",
        "from pennylane import numpy as np \n",
        "import matplotlib.pyplot as plt"
      ],
      "metadata": {
        "id": "pkdncvSLpRmD"
      },
      "execution_count": 4,
      "outputs": []
    },
    {
      "cell_type": "code",
      "source": [
        "N = 100\n",
        "A = np.array([[np.random.normal(loc=-1), np.random.normal(loc=1)] for i in range(N//2)]) \n",
        "B = np.array([[np.random.normal(loc=1), np.random.normal(loc=-1)] for i in range(N//2)]) \n",
        "\n",
        "plt.scatter(A[:,0], A[:,1])\n",
        "plt.scatter(B[:,0], B[:,1])\n",
        "plt.show()"
      ],
      "metadata": {
        "colab": {
          "base_uri": "https://localhost:8080/",
          "height": 265
        },
        "id": "2jZvrYOcp2TJ",
        "outputId": "50933935-2267-43e7-a7c7-f2338517f6c7"
      },
      "execution_count": 5,
      "outputs": [
        {
          "output_type": "display_data",
          "data": {
            "text/plain": [
              "<Figure size 432x288 with 1 Axes>"
            ],
            "image/png": "[encoded data removed]"
          },
          "metadata": {
            "needs_background": "light"
          }
        }
      ]
    },
    {
      "cell_type": "code",
      "source": [
        "feature = np.concatenate([A, B], axis=0)\n",
        "label = np.concatenate([-np.ones(N // 2), np.ones(N//2)], axis=0)\n",
        "data = list(zip(feature, label))"
      ],
      "metadata": {
        "id": "Cu2b3jW6p_5N"
      },
      "execution_count": 6,
      "outputs": []
    },
    {
      "cell_type": "code",
      "source": [
        "def model(x, w):\n",
        "    return np.arctan(x[0]*w[0] + x[1]*w[1] + w[2]) / (np.pi / 2)"
      ],
      "metadata": {
        "id": "jVCEklNzqFuK"
      },
      "execution_count": 7,
      "outputs": []
    },
    {
      "cell_type": "code",
      "source": [
        "w = np.array([1, 1, 0], requires_grad = True)\n",
        "\n",
        "def img_line(x, w):\n",
        "    if w[1] == 0:\n",
        "        w[1] = 0.0001\n",
        "    return -(w[0] * x  + w[2]) / w[1]\n",
        "    \n",
        "\n",
        "\n",
        "def plot_model(w):\n",
        "    x1, x2 = -3, 3\n",
        "    plt.plot([x1, x2], [img_line(x1,w),img_line(x2,w)], 'go-', label='line 1', linewidth=2)\n",
        "    plt.scatter(A[:,0], A[:,1])\n",
        "    plt.scatter(B[:,0], B[:,1])\n",
        "    plt.axis((-3,3,-3,3))\n",
        "    plt.show()\n",
        "    \n",
        "plot_model(w)"
      ],
      "metadata": {
        "colab": {
          "base_uri": "https://localhost:8080/",
          "height": 269
        },
        "id": "1UTq9NdDqIC4",
        "outputId": "73c15648-f26f-44d0-9cc4-3973c8df6018"
      },
      "execution_count": 8,
      "outputs": [
        {
          "output_type": "display_data",
          "data": {
            "text/plain": [
              "<Figure size 432x288 with 1 Axes>"
            ],
            "image/png": "[encoded data removed]"
          },
          "metadata": {
            "needs_background": "light"
          }
        }
      ]
    },
    {
      "cell_type": "code",
      "source": [
        "def average_loss(w, data):\n",
        "    losses = 0\n",
        "    for x,y in data:\n",
        "        losses += (model(x,w) - y) ** 2\n",
        "    return losses/len(data)\n",
        "        "
      ],
      "metadata": {
        "id": "v3n2Ki8iqKRe"
      },
      "execution_count": 9,
      "outputs": []
    },
    {
      "cell_type": "code",
      "source": [
        "average_loss([1,1,0], data)"
      ],
      "metadata": {
        "colab": {
          "base_uri": "https://localhost:8080/"
        },
        "id": "lEBYutlqqM--",
        "outputId": "4566d43d-69f6-4367-9c2f-7676d44bc0cd"
      },
      "execution_count": 10,
      "outputs": [
        {
          "output_type": "execute_result",
          "data": {
            "text/plain": [
              "tensor(1.4327386, requires_grad=True)"
            ]
          },
          "metadata": {},
          "execution_count": 10
        }
      ]
    },
    {
      "cell_type": "code",
      "source": [
        "gradient_fn_w = qml.grad(average_loss, argnum=0)"
      ],
      "metadata": {
        "id": "wfY6Om8eqOpb"
      },
      "execution_count": 11,
      "outputs": []
    },
    {
      "cell_type": "code",
      "source": [
        "from IPython.display import clear_output\n",
        "w = np.array([1, 1, 0], requires_grad = True)\n",
        "\n",
        "lr = 0.1\n",
        "for epoch in range(101):\n",
        "    w = w - lr*gradient_fn_w(w,data)\n",
        "    if epoch % 5 == 0:\n",
        "        print(\"epoch\", epoch, \"loss\", average_loss(w,data))\n",
        "        plot_model(w)\n",
        "        clear_output(wait=True)"
      ],
      "metadata": {
        "colab": {
          "base_uri": "https://localhost:8080/",
          "height": 286
        },
        "id": "ij4-_dZvqQVw",
        "outputId": "0a29af14-1ada-4ef0-e597-2ba5dbfcb635"
      },
      "execution_count": 12,
      "outputs": [
        {
          "output_type": "stream",
          "name": "stdout",
          "text": [
            "epoch 100 loss 0.23027444669200117\n"
          ]
        },
        {
          "output_type": "display_data",
          "data": {
            "text/plain": [
              "<Figure size 432x288 with 1 Axes>"
            ],
            "image/png": "[encoded data removed]"
          },
          "metadata": {
            "needs_background": "light"
          }
        }
      ]
    },
    {
      "cell_type": "code",
      "source": [],
      "metadata": {
        "id": "SGldfPROwlN9"
      },
      "execution_count": null,
      "outputs": []
    }
  ]
}