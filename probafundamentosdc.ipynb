{
  "nbformat": 4,
  "nbformat_minor": 0,
  "metadata": {
    "colab": {
      "provenance": [],
      "authorship_tag": "ABX9TyM/s8LVnoi3+tk5pXWAocb9",
      "include_colab_link": true
    },
    "kernelspec": {
      "name": "python3",
      "display_name": "Python 3"
    },
    "language_info": {
      "name": "python"
    }
  },
  "cells": [
    {
      "cell_type": "markdown",
      "metadata": {
        "id": "view-in-github",
        "colab_type": "text"
      },
      "source": [
        "<a href=\"https://colab.research.google.com/github/Crisel8a/Probabilidad-1/blob/main/probafundamentosdc.ipynb\" target=\"_parent\"><img src=\"https://colab.research.google.com/assets/colab-badge.svg\" alt=\"Open In Colab\"/></a>"
      ]
    },
    {
      "cell_type": "markdown",
      "source": [
        "<h1 align=\"center\" style=\"color: #cd7f32;\"> Fundamentos de Probabilidad en Python </h1>\n",
        "@DataCamp"
      ],
      "metadata": {
        "id": "eYz2xalAPyDK"
      }
    },
    {
      "cell_type": "code",
      "source": [
        "from scipy.stats import bernoulli"
      ],
      "metadata": {
        "id": "xZ7nret3Py4t"
      },
      "execution_count": null,
      "outputs": []
    },
    {
      "cell_type": "code",
      "source": [
        "bernoulli.rvs(p=0.5, size=1) #simulando una moneda como un evento bernoulli"
      ],
      "metadata": {
        "colab": {
          "base_uri": "https://localhost:8080/"
        },
        "id": "NrojOiqrP-FD",
        "outputId": "26ed50d8-ba25-4a15-bb8f-667a68038851"
      },
      "execution_count": null,
      "outputs": [
        {
          "output_type": "execute_result",
          "data": {
            "text/plain": [
              "array([0])"
            ]
          },
          "metadata": {},
          "execution_count": 4
        }
      ]
    },
    {
      "cell_type": "code",
      "source": [
        "bernoulli.rvs(p=0.5, size=10) #simulando 10 monedas"
      ],
      "metadata": {
        "colab": {
          "base_uri": "https://localhost:8080/"
        },
        "id": "0egiJ4djQGdl",
        "outputId": "c6817a5c-eb20-4955-d65d-4cfab83adaf5"
      },
      "execution_count": null,
      "outputs": [
        {
          "output_type": "execute_result",
          "data": {
            "text/plain": [
              "array([0, 1, 0, 1, 1, 0, 1, 1, 1, 0])"
            ]
          },
          "metadata": {},
          "execution_count": 7
        }
      ]
    },
    {
      "cell_type": "markdown",
      "source": [
        "Suponiendo que 1 es cara y 0 es cruz, si queremos saber cuantas caras obtuvimos, entonces hacemos la suma"
      ],
      "metadata": {
        "id": "0Tc9WuTmRIib"
      }
    },
    {
      "cell_type": "code",
      "source": [
        "sum(bernoulli.rvs(p=0.5, size=10))"
      ],
      "metadata": {
        "colab": {
          "base_uri": "https://localhost:8080/"
        },
        "id": "TkAOMuyNQlw5",
        "outputId": "2f444c49-2c88-45fe-a6a9-b214d3a0b4be"
      },
      "execution_count": null,
      "outputs": [
        {
          "output_type": "execute_result",
          "data": {
            "text/plain": [
              "3"
            ]
          },
          "metadata": {},
          "execution_count": 11
        }
      ]
    },
    {
      "cell_type": "code",
      "source": [
        "from scipy.stats import binom"
      ],
      "metadata": {
        "id": "5bpiJZvaRO4O"
      },
      "execution_count": null,
      "outputs": []
    },
    {
      "cell_type": "code",
      "source": [
        "hice cambios"
      ],
      "metadata": {
        "id": "094ElQioRbkk"
      },
      "execution_count": null,
      "outputs": []
    },
    {
      "cell_type": "code",
      "source": [
        "binom.rvs(n=10, p=0.5, size=1)"
      ],
      "metadata": {
        "colab": {
          "base_uri": "https://localhost:8080/"
        },
        "id": "CN3ddQZJdsa7",
        "outputId": "f129ca26-82d6-4d14-b6f4-acf636e9d167"
      },
      "execution_count": null,
      "outputs": [
        {
          "output_type": "execute_result",
          "data": {
            "text/plain": [
              "array([8])"
            ]
          },
          "metadata": {},
          "execution_count": 13
        }
      ]
    },
    {
      "cell_type": "code",
      "source": [
        "binom.rvs(n=10, p=0.5, size=10)"
      ],
      "metadata": {
        "colab": {
          "base_uri": "https://localhost:8080/"
        },
        "id": "0A_0n8Rdd-49",
        "outputId": "c39b15a4-b52a-424d-b774-b4fb3c3b8331"
      },
      "execution_count": null,
      "outputs": [
        {
          "output_type": "execute_result",
          "data": {
            "text/plain": [
              "array([6, 5, 5, 3, 5, 5, 5, 5, 6, 3])"
            ]
          },
          "metadata": {},
          "execution_count": 15
        }
      ]
    },
    {
      "cell_type": "markdown",
      "source": [
        "ayayayya"
      ],
      "metadata": {
        "id": "vTpNypEOeKXP"
      }
    },
    {
      "cell_type": "markdown",
      "source": [
        "mas cambios"
      ],
      "metadata": {
        "id": "euUefVH5evuT"
      }
    }
  ]
}