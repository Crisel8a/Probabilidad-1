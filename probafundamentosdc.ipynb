{
  "nbformat": 4,
  "nbformat_minor": 0,
  "metadata": {
    "colab": {
      "provenance": [],
      "collapsed_sections": [
        "4LAqf9XCfRCD",
        "Bz5lXvN2fFMr"
      ],
      "authorship_tag": "ABX9TyPRuUsdZBl4Z4Upx7wnFUbd",
      "include_colab_link": true
    },
    "kernelspec": {
      "name": "python3",
      "display_name": "Python 3"
    },
    "language_info": {
      "name": "python"
    }
  },
  "cells": [
    {
      "cell_type": "markdown",
      "metadata": {
        "id": "view-in-github",
        "colab_type": "text"
      },
      "source": [
        "<a href=\"https://colab.research.google.com/github/Crisel8a/Probabilidad-1/blob/main/probafundamentosdc.ipynb\" target=\"_parent\"><img src=\"https://colab.research.google.com/assets/colab-badge.svg\" alt=\"Open In Colab\"/></a>"
      ]
    },
    {
      "cell_type": "markdown",
      "source": [
        "<h1 align=\"center\" style=\"color: #cd7f32;\"> Fundamentos de Probabilidad en Python </h1>\n",
        "@DataCamp"
      ],
      "metadata": {
        "id": "eYz2xalAPyDK"
      }
    },
    {
      "cell_type": "markdown",
      "source": [
        "\n",
        "\n",
        "---\n",
        "\n",
        "\n",
        "\n",
        "# Lanzando una moneda"
      ],
      "metadata": {
        "id": "4LAqf9XCfRCD"
      }
    },
    {
      "cell_type": "code",
      "source": [
        "from scipy.stats import bernoulli"
      ],
      "metadata": {
        "id": "xZ7nret3Py4t"
      },
      "execution_count": null,
      "outputs": []
    },
    {
      "cell_type": "code",
      "source": [
        "bernoulli.rvs(p=0.5, size=1) #simulando una moneda como un evento bernoulli"
      ],
      "metadata": {
        "colab": {
          "base_uri": "https://localhost:8080/"
        },
        "id": "NrojOiqrP-FD",
        "outputId": "26ed50d8-ba25-4a15-bb8f-667a68038851"
      },
      "execution_count": null,
      "outputs": [
        {
          "output_type": "execute_result",
          "data": {
            "text/plain": [
              "array([0])"
            ]
          },
          "metadata": {},
          "execution_count": 4
        }
      ]
    },
    {
      "cell_type": "code",
      "source": [
        "bernoulli.rvs(p=0.5, size=10) #simulando 10 monedas"
      ],
      "metadata": {
        "colab": {
          "base_uri": "https://localhost:8080/"
        },
        "id": "0egiJ4djQGdl",
        "outputId": "c6817a5c-eb20-4955-d65d-4cfab83adaf5"
      },
      "execution_count": null,
      "outputs": [
        {
          "output_type": "execute_result",
          "data": {
            "text/plain": [
              "array([0, 1, 0, 1, 1, 0, 1, 1, 1, 0])"
            ]
          },
          "metadata": {},
          "execution_count": 7
        }
      ]
    },
    {
      "cell_type": "markdown",
      "source": [
        "Suponiendo que 1 es cara y 0 es cruz, si queremos saber cuantas caras obtuvimos, entonces hacemos la suma"
      ],
      "metadata": {
        "id": "0Tc9WuTmRIib"
      }
    },
    {
      "cell_type": "code",
      "source": [
        "sum(bernoulli.rvs(p=0.5, size=10))"
      ],
      "metadata": {
        "colab": {
          "base_uri": "https://localhost:8080/"
        },
        "id": "TkAOMuyNQlw5",
        "outputId": "2f444c49-2c88-45fe-a6a9-b214d3a0b4be"
      },
      "execution_count": null,
      "outputs": [
        {
          "output_type": "execute_result",
          "data": {
            "text/plain": [
              "3"
            ]
          },
          "metadata": {},
          "execution_count": 11
        }
      ]
    },
    {
      "cell_type": "code",
      "source": [
        "from scipy.stats import binom"
      ],
      "metadata": {
        "id": "5bpiJZvaRO4O"
      },
      "execution_count": null,
      "outputs": []
    },
    {
      "cell_type": "code",
      "source": [
        "hice cambios"
      ],
      "metadata": {
        "id": "094ElQioRbkk"
      },
      "execution_count": null,
      "outputs": []
    },
    {
      "cell_type": "code",
      "source": [
        "binom.rvs(n=10, p=0.5, size=1)"
      ],
      "metadata": {
        "colab": {
          "base_uri": "https://localhost:8080/"
        },
        "id": "CN3ddQZJdsa7",
        "outputId": "f129ca26-82d6-4d14-b6f4-acf636e9d167"
      },
      "execution_count": null,
      "outputs": [
        {
          "output_type": "execute_result",
          "data": {
            "text/plain": [
              "array([8])"
            ]
          },
          "metadata": {},
          "execution_count": 13
        }
      ]
    },
    {
      "cell_type": "code",
      "source": [
        "binom.rvs(n=10, p=0.5, size=10) #muchos lanzamientos"
      ],
      "metadata": {
        "colab": {
          "base_uri": "https://localhost:8080/"
        },
        "id": "0A_0n8Rdd-49",
        "outputId": "c39b15a4-b52a-424d-b774-b4fb3c3b8331"
      },
      "execution_count": null,
      "outputs": [
        {
          "output_type": "execute_result",
          "data": {
            "text/plain": [
              "array([6, 5, 5, 3, 5, 5, 5, 5, 6, 3])"
            ]
          },
          "metadata": {},
          "execution_count": 15
        }
      ]
    },
    {
      "cell_type": "markdown",
      "source": [
        "\n",
        "\n",
        "\n",
        "\n",
        "---\n",
        "\n",
        "\n",
        "# Generando una semilla aleatoria"
      ],
      "metadata": {
        "id": "Bz5lXvN2fFMr"
      }
    },
    {
      "cell_type": "markdown",
      "source": [
        "Usamos el parámetro ``` random_state ``` en la función ``` rvs() ```\n",
        "\n",
        "\n",
        "\n"
      ],
      "metadata": {
        "id": "0TyMeK2HfYr4"
      }
    },
    {
      "cell_type": "code",
      "source": [
        "from scipy.stats import binom\n",
        "binom.rvs(n=10, p=0.5, size=1, random_state=42)"
      ],
      "metadata": {
        "colab": {
          "base_uri": "https://localhost:8080/"
        },
        "id": "M9esoL2Gfule",
        "outputId": "f703fb5b-5383-4ca6-8a74-371eda5892e4"
      },
      "execution_count": 1,
      "outputs": [
        {
          "output_type": "execute_result",
          "data": {
            "text/plain": [
              "array([4])"
            ]
          },
          "metadata": {},
          "execution_count": 1
        }
      ]
    },
    {
      "cell_type": "markdown",
      "source": [
        "Luego, usamos ``` numpy.random.seed() ``` importando numpy\n",
        "\n"
      ],
      "metadata": {
        "id": "5dh0XGqAgbN5"
      }
    },
    {
      "cell_type": "code",
      "source": [
        "import numpy as np\n",
        "np.random.seed(42)"
      ],
      "metadata": {
        "id": "3tmMA6c1goCN"
      },
      "execution_count": 2,
      "outputs": []
    },
    {
      "cell_type": "markdown",
      "source": [
        "Vamos a lanzar 10 monedas justas con una semilla aleatoria"
      ],
      "metadata": {
        "id": "H-BVnOjCgums"
      }
    },
    {
      "cell_type": "code",
      "source": [
        "from scipy.stats import binom\n",
        "import numpy as np\n",
        "\n",
        "\n",
        "np.random.seed(42)\n",
        "binom.rvs(n=10, p=0.5, size=1)"
      ],
      "metadata": {
        "colab": {
          "base_uri": "https://localhost:8080/"
        },
        "id": "2VwHOShHgzqX",
        "outputId": "869fc5c1-a396-4b5f-b253-00a5c8118fdd"
      },
      "execution_count": 3,
      "outputs": [
        {
          "output_type": "execute_result",
          "data": {
            "text/plain": [
              "array([4])"
            ]
          },
          "metadata": {},
          "execution_count": 3
        }
      ]
    },
    {
      "cell_type": "markdown",
      "source": [
        "---\n",
        "\n",
        "# Funciones de masa y distribución"
      ],
      "metadata": {
        "id": "RpfWKC5-nYP5"
      }
    },
    {
      "cell_type": "markdown",
      "source": [
        "Funciones de probabilidad $f(x)=P(X = x)$\n",
        "- Las funciones de **masa** son para variables aleatorias **discreta**. \n",
        "- Las funciones de **densidad** son para variables aleatorias **continuas**. \n",
        "\n",
        "La función de distribución $F(x)=P(X \\leq x)$\n"
      ],
      "metadata": {
        "id": "DcQsLEMHtAyK"
      }
    },
    {
      "cell_type": "markdown",
      "source": [
        "Probability mass function (pmf)\n",
        "$$binomial.pmf(k,n,p) = {n \\choose k}p^k (1-p)^{n-k}$$\n",
        "\n",
        "En python ``` binom.pmf(k, n, p) ```\n",
        "\n"
      ],
      "metadata": {
        "id": "Hd6W5iavnhMP"
      }
    },
    {
      "cell_type": "code",
      "source": [
        "#Probabilidad de obtener dos caras luego de 10 lanzamientos de una moneda justa\n",
        "binom.pmf(k=2, n=10, p=0.5)"
      ],
      "metadata": {
        "colab": {
          "base_uri": "https://localhost:8080/"
        },
        "id": "aQ9ZDdLLnm1l",
        "outputId": "de4b383a-a62b-44e9-9e73-19884975fe35"
      },
      "execution_count": 4,
      "outputs": [
        {
          "output_type": "execute_result",
          "data": {
            "text/plain": [
              "0.04394531250000004"
            ]
          },
          "metadata": {},
          "execution_count": 4
        }
      ]
    },
    {
      "cell_type": "code",
      "source": [
        "# Probabilidad de obtener 5 caras luego de 10 lanzamientos de una moneda justa\n",
        "binom.pmf(k=5, n=10, p=0.5)"
      ],
      "metadata": {
        "colab": {
          "base_uri": "https://localhost:8080/"
        },
        "id": "se3Z0ZthoU1-",
        "outputId": "b44167d4-0c8e-445f-e655-a74f7612bd9c"
      },
      "execution_count": 5,
      "outputs": [
        {
          "output_type": "execute_result",
          "data": {
            "text/plain": [
              "0.24609375000000003"
            ]
          },
          "metadata": {},
          "execution_count": 5
        }
      ]
    },
    {
      "cell_type": "code",
      "source": [
        "# Probabilidad de obtener 50 caras luego de 100 lanzamientos con probabilidad 0.3\n",
        "binom.pmf(k=50, n=100, p=0.3)"
      ],
      "metadata": {
        "colab": {
          "base_uri": "https://localhost:8080/"
        },
        "id": "V5lFf30ZqsO5",
        "outputId": "f33c4aab-27f2-436e-878a-1f37861d4035"
      },
      "execution_count": 7,
      "outputs": [
        {
          "output_type": "execute_result",
          "data": {
            "text/plain": [
              "1.302622713144528e-05"
            ]
          },
          "metadata": {},
          "execution_count": 7
        }
      ]
    },
    {
      "cell_type": "code",
      "source": [
        "#Probabilidad de obtener 65 caras luego de 100 lanzamientos con probabilidad 0.7\n",
        "binom.pmf(k=65, n=100, p=0.7)"
      ],
      "metadata": {
        "colab": {
          "base_uri": "https://localhost:8080/"
        },
        "id": "EQDG7LfZq7zS",
        "outputId": "d85932c5-f7ab-4e07-e058-5530473bb0d7"
      },
      "execution_count": 9,
      "outputs": [
        {
          "output_type": "execute_result",
          "data": {
            "text/plain": [
              "0.04677968235272997"
            ]
          },
          "metadata": {},
          "execution_count": 9
        }
      ]
    },
    {
      "cell_type": "markdown",
      "source": [
        "Probability ditribution function (cdf)\n",
        "\n",
        "$$binom.cdf(k, n, p) = {n \\choose 0}p^0(1-p)^n + {n \\choose 1}p(1-p)^{n-1} + \\cdots + {n \\choose k}p^k(1-p)^{n-k}$$\n",
        "\n",
        "En python ``` binom.cdf(k, n, p) ```\n",
        "\n"
      ],
      "metadata": {
        "id": "Cak8r3YkrVjt"
      }
    },
    {
      "cell_type": "code",
      "source": [
        "# Probabilidad de obtener 5 caras o menos en 10 lanzamientos de una moneda justa\n",
        "binom.cdf(k=5, n=10, p=0.5)"
      ],
      "metadata": {
        "colab": {
          "base_uri": "https://localhost:8080/"
        },
        "id": "bFIHtn16rvNg",
        "outputId": "262cb802-8d97-424e-be66-cea6a2fea34f"
      },
      "execution_count": 10,
      "outputs": [
        {
          "output_type": "execute_result",
          "data": {
            "text/plain": [
              "0.623046875"
            ]
          },
          "metadata": {},
          "execution_count": 10
        }
      ]
    },
    {
      "cell_type": "code",
      "source": [
        "#Probabilidad de obtener 50 caras o menos en 100 lanzamientos con probabilidad 0.3\n",
        "binom.cdf(k=50, n=100, p=0.3)"
      ],
      "metadata": {
        "colab": {
          "base_uri": "https://localhost:8080/"
        },
        "id": "c9VR0IJusDgs",
        "outputId": "46076127-ef8a-4439-f826-0a2b1f23c812"
      },
      "execution_count": 11,
      "outputs": [
        {
          "output_type": "execute_result",
          "data": {
            "text/plain": [
              "0.9999909653138043"
            ]
          },
          "metadata": {},
          "execution_count": 11
        }
      ]
    },
    {
      "cell_type": "markdown",
      "source": [
        "Tenemos que $P(X > k) = 1 - P(X \\leq k)$, entonces"
      ],
      "metadata": {
        "id": "NHkKpYSFsalN"
      }
    },
    {
      "cell_type": "code",
      "source": [
        "#Probabilidad de obtener más de 59 caras luego de 100 lanzamientos con probabilidad 0.7\n",
        "1-binom.cdf(k=59, n=100, p=0.7)"
      ],
      "metadata": {
        "colab": {
          "base_uri": "https://localhost:8080/"
        },
        "id": "ewE0eeIGsMND",
        "outputId": "d0748140-d4c9-4c01-b991-9287fee5d567"
      },
      "execution_count": 12,
      "outputs": [
        {
          "output_type": "execute_result",
          "data": {
            "text/plain": [
              "0.9875015928335618"
            ]
          },
          "metadata": {},
          "execution_count": 12
        }
      ]
    },
    {
      "cell_type": "markdown",
      "source": [
        "Otra opción es usar ``` .sf ``` luego de `binom`\n",
        "\n"
      ],
      "metadata": {
        "id": "hRyQ1_mFuSe2"
      }
    },
    {
      "cell_type": "code",
      "source": [
        "#Probabilidad de obtener más de 59 caras luego de 100 lanzamientos con probabilidad 0.7\n",
        "binom.sf(k=59, n=100, p=0.7)"
      ],
      "metadata": {
        "colab": {
          "base_uri": "https://localhost:8080/"
        },
        "id": "dnqFD_UwubF8",
        "outputId": "b08e96ac-7ad9-442a-a3bb-4041654f8cf2"
      },
      "execution_count": 13,
      "outputs": [
        {
          "output_type": "execute_result",
          "data": {
            "text/plain": [
              "0.9875015928335618"
            ]
          },
          "metadata": {},
          "execution_count": 13
        }
      ]
    },
    {
      "cell_type": "markdown",
      "source": [
        "\n",
        "\n",
        "---\n",
        "\n",
        "## Esperanza, varianza y promedio"
      ],
      "metadata": {
        "id": "fhclWD4au2pC"
      }
    },
    {
      "cell_type": "markdown",
      "source": [
        "**Esperanza**: suma de los posibles valores según su probabilidad.\n",
        "$$E(X)= \\sum_{i=1}^k x_ip_i=x_1p_p+x_2p_2+ \\cdots + x_kp_k$$"
      ],
      "metadata": {
        "id": "6lGtpkV8vAe5"
      }
    },
    {
      "cell_type": "code",
      "source": [],
      "metadata": {
        "id": "92ntWIdovXf7"
      },
      "execution_count": null,
      "outputs": []
    }
  ]
}