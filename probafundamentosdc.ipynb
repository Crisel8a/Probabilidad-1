{
  "nbformat": 4,
  "nbformat_minor": 0,
  "metadata": {
    "colab": {
      "provenance": [],
      "collapsed_sections": [
        "4LAqf9XCfRCD",
        "Bz5lXvN2fFMr",
        "RpfWKC5-nYP5",
        "fhclWD4au2pC"
      ],
      "authorship_tag": "ABX9TyNKnQ3ZyZiPwv/usxoR++Qx",
      "include_colab_link": true
    },
    "kernelspec": {
      "name": "python3",
      "display_name": "Python 3"
    },
    "language_info": {
      "name": "python"
    }
  },
  "cells": [
    {
      "cell_type": "markdown",
      "metadata": {
        "id": "view-in-github",
        "colab_type": "text"
      },
      "source": [
        "<a href=\"https://colab.research.google.com/github/Crisel8a/Probabilidad-1/blob/main/probafundamentosdc.ipynb\" target=\"_parent\"><img src=\"https://colab.research.google.com/assets/colab-badge.svg\" alt=\"Open In Colab\"/></a>"
      ]
    },
    {
      "cell_type": "markdown",
      "source": [
        "<h1 align=\"center\" style=\"color: #cd7f32;\"> Fundamentos de Probabilidad en Python </h1>\n",
        "@DataCamp"
      ],
      "metadata": {
        "id": "eYz2xalAPyDK"
      }
    },
    {
      "cell_type": "markdown",
      "source": [
        "\n",
        "\n",
        "---\n",
        "\n",
        "\n",
        "\n",
        "# Lanzando una moneda"
      ],
      "metadata": {
        "id": "4LAqf9XCfRCD"
      }
    },
    {
      "cell_type": "code",
      "source": [
        "from scipy.stats import bernoulli"
      ],
      "metadata": {
        "id": "xZ7nret3Py4t"
      },
      "execution_count": 5,
      "outputs": []
    },
    {
      "cell_type": "code",
      "source": [
        "bernoulli.rvs(p=0.5, size=1) #simulando una moneda como un evento bernoulli"
      ],
      "metadata": {
        "colab": {
          "base_uri": "https://localhost:8080/"
        },
        "id": "NrojOiqrP-FD",
        "outputId": "420aeecf-adfd-426e-a874-ddedf459df16"
      },
      "execution_count": 6,
      "outputs": [
        {
          "output_type": "execute_result",
          "data": {
            "text/plain": [
              "array([1])"
            ]
          },
          "metadata": {},
          "execution_count": 6
        }
      ]
    },
    {
      "cell_type": "code",
      "source": [
        "bernoulli.rvs(p=0.5, size=10) #simulando 10 monedas"
      ],
      "metadata": {
        "colab": {
          "base_uri": "https://localhost:8080/"
        },
        "id": "0egiJ4djQGdl",
        "outputId": "85aca52b-3a6b-44c2-e45a-9f162e596468"
      },
      "execution_count": 7,
      "outputs": [
        {
          "output_type": "execute_result",
          "data": {
            "text/plain": [
              "array([1, 0, 1, 0, 0, 1, 0, 1, 0, 1])"
            ]
          },
          "metadata": {},
          "execution_count": 7
        }
      ]
    },
    {
      "cell_type": "markdown",
      "source": [
        "Suponiendo que 1 es cara y 0 es cruz, si queremos saber cuantas caras obtuvimos, entonces hacemos la suma"
      ],
      "metadata": {
        "id": "0Tc9WuTmRIib"
      }
    },
    {
      "cell_type": "code",
      "source": [
        "sum(bernoulli.rvs(p=0.5, size=10))"
      ],
      "metadata": {
        "colab": {
          "base_uri": "https://localhost:8080/"
        },
        "id": "TkAOMuyNQlw5",
        "outputId": "1546c5eb-82b6-46b0-d8f9-145ecb99caee"
      },
      "execution_count": 8,
      "outputs": [
        {
          "output_type": "execute_result",
          "data": {
            "text/plain": [
              "7"
            ]
          },
          "metadata": {},
          "execution_count": 8
        }
      ]
    },
    {
      "cell_type": "code",
      "source": [
        "from scipy.stats import binom"
      ],
      "metadata": {
        "id": "5bpiJZvaRO4O"
      },
      "execution_count": 27,
      "outputs": []
    },
    {
      "cell_type": "code",
      "source": [
        "binom.rvs(n=10, p=0.5, size=1)"
      ],
      "metadata": {
        "colab": {
          "base_uri": "https://localhost:8080/"
        },
        "id": "CN3ddQZJdsa7",
        "outputId": "0a257e27-6970-4c92-b349-fa0fb0cb98fb"
      },
      "execution_count": 28,
      "outputs": [
        {
          "output_type": "execute_result",
          "data": {
            "text/plain": [
              "array([8])"
            ]
          },
          "metadata": {},
          "execution_count": 28
        }
      ]
    },
    {
      "cell_type": "code",
      "source": [
        "binom.rvs(n=10, p=0.5, size=10) #muchos lanzamientos"
      ],
      "metadata": {
        "colab": {
          "base_uri": "https://localhost:8080/"
        },
        "id": "0A_0n8Rdd-49",
        "outputId": "00c2a6d6-31b2-4a81-e156-f5944df327e4"
      },
      "execution_count": 29,
      "outputs": [
        {
          "output_type": "execute_result",
          "data": {
            "text/plain": [
              "array([6, 5, 3, 3, 3, 7, 5, 6, 2, 8])"
            ]
          },
          "metadata": {},
          "execution_count": 29
        }
      ]
    },
    {
      "cell_type": "markdown",
      "source": [
        "\n",
        "\n",
        "\n",
        "\n",
        "---\n",
        "\n",
        "\n",
        "# Generando una semilla aleatoria"
      ],
      "metadata": {
        "id": "Bz5lXvN2fFMr"
      }
    },
    {
      "cell_type": "markdown",
      "source": [
        "Usamos el parámetro ``` random_state ``` en la función ``` rvs() ```\n",
        "\n",
        "\n",
        "\n"
      ],
      "metadata": {
        "id": "0TyMeK2HfYr4"
      }
    },
    {
      "cell_type": "code",
      "source": [
        "from scipy.stats import binom\n",
        "binom.rvs(n=10, p=0.5, size=1, random_state=42)"
      ],
      "metadata": {
        "colab": {
          "base_uri": "https://localhost:8080/"
        },
        "id": "M9esoL2Gfule",
        "outputId": "b3c023cc-e762-4465-aba5-f6200dfc4dac"
      },
      "execution_count": 14,
      "outputs": [
        {
          "output_type": "execute_result",
          "data": {
            "text/plain": [
              "array([4])"
            ]
          },
          "metadata": {},
          "execution_count": 14
        }
      ]
    },
    {
      "cell_type": "markdown",
      "source": [
        "Luego, usamos ``` numpy.random.seed() ``` importando numpy\n",
        "\n"
      ],
      "metadata": {
        "id": "5dh0XGqAgbN5"
      }
    },
    {
      "cell_type": "code",
      "source": [
        "import numpy as np\n",
        "np.random.seed(42)"
      ],
      "metadata": {
        "id": "3tmMA6c1goCN"
      },
      "execution_count": 15,
      "outputs": []
    },
    {
      "cell_type": "markdown",
      "source": [
        "Vamos a lanzar 10 monedas justas con una semilla aleatoria"
      ],
      "metadata": {
        "id": "H-BVnOjCgums"
      }
    },
    {
      "cell_type": "code",
      "source": [
        "from scipy.stats import binom\n",
        "import numpy as np\n",
        "\n",
        "\n",
        "np.random.seed(42)\n",
        "binom.rvs(n=10, p=0.5, size=1)"
      ],
      "metadata": {
        "colab": {
          "base_uri": "https://localhost:8080/"
        },
        "id": "2VwHOShHgzqX",
        "outputId": "2ceeed0f-35b2-401e-a76d-b17ab4c5c87e"
      },
      "execution_count": 16,
      "outputs": [
        {
          "output_type": "execute_result",
          "data": {
            "text/plain": [
              "array([4])"
            ]
          },
          "metadata": {},
          "execution_count": 16
        }
      ]
    },
    {
      "cell_type": "markdown",
      "source": [
        "---\n",
        "\n",
        "# Funciones de masa y distribución"
      ],
      "metadata": {
        "id": "RpfWKC5-nYP5"
      }
    },
    {
      "cell_type": "markdown",
      "source": [
        "Funciones de probabilidad $f(x)=P(X = x)$\n",
        "- Las funciones de **masa** son para variables aleatorias **discreta**. \n",
        "- Las funciones de **densidad** son para variables aleatorias **continuas**. \n",
        "\n",
        "La función de distribución $F(x)=P(X \\leq x)$\n"
      ],
      "metadata": {
        "id": "DcQsLEMHtAyK"
      }
    },
    {
      "cell_type": "markdown",
      "source": [
        "Probability mass function (pmf)\n",
        "$$binomial.pmf(k,n,p) = {n \\choose k}p^k (1-p)^{n-k}$$\n",
        "\n",
        "En python ``` binom.pmf(k, n, p) ```\n",
        "\n"
      ],
      "metadata": {
        "id": "Hd6W5iavnhMP"
      }
    },
    {
      "cell_type": "code",
      "source": [
        "#Probabilidad de obtener dos caras luego de 10 lanzamientos de una moneda justa\n",
        "binom.pmf(k=2, n=10, p=0.5)"
      ],
      "metadata": {
        "colab": {
          "base_uri": "https://localhost:8080/"
        },
        "id": "aQ9ZDdLLnm1l",
        "outputId": "15cc960c-ef58-4d2d-fdcf-5ea92d00f24c"
      },
      "execution_count": 17,
      "outputs": [
        {
          "output_type": "execute_result",
          "data": {
            "text/plain": [
              "0.04394531250000004"
            ]
          },
          "metadata": {},
          "execution_count": 17
        }
      ]
    },
    {
      "cell_type": "code",
      "source": [
        "# Probabilidad de obtener 5 caras luego de 10 lanzamientos de una moneda justa\n",
        "binom.pmf(k=5, n=10, p=0.5)"
      ],
      "metadata": {
        "colab": {
          "base_uri": "https://localhost:8080/"
        },
        "id": "se3Z0ZthoU1-",
        "outputId": "1911b98b-ce72-4758-dead-b3bce7dd38d9"
      },
      "execution_count": 18,
      "outputs": [
        {
          "output_type": "execute_result",
          "data": {
            "text/plain": [
              "0.24609375000000003"
            ]
          },
          "metadata": {},
          "execution_count": 18
        }
      ]
    },
    {
      "cell_type": "code",
      "source": [
        "# Probabilidad de obtener 50 caras luego de 100 lanzamientos con probabilidad 0.3\n",
        "binom.pmf(k=50, n=100, p=0.3)"
      ],
      "metadata": {
        "colab": {
          "base_uri": "https://localhost:8080/"
        },
        "id": "V5lFf30ZqsO5",
        "outputId": "2a6ff606-9abc-466e-c314-0608e7370d00"
      },
      "execution_count": 19,
      "outputs": [
        {
          "output_type": "execute_result",
          "data": {
            "text/plain": [
              "1.302622713144528e-05"
            ]
          },
          "metadata": {},
          "execution_count": 19
        }
      ]
    },
    {
      "cell_type": "code",
      "source": [
        "#Probabilidad de obtener 65 caras luego de 100 lanzamientos con probabilidad 0.7\n",
        "binom.pmf(k=65, n=100, p=0.7)"
      ],
      "metadata": {
        "colab": {
          "base_uri": "https://localhost:8080/"
        },
        "id": "EQDG7LfZq7zS",
        "outputId": "38b0419f-f34b-4159-aab4-910487549f2a"
      },
      "execution_count": 20,
      "outputs": [
        {
          "output_type": "execute_result",
          "data": {
            "text/plain": [
              "0.04677968235272997"
            ]
          },
          "metadata": {},
          "execution_count": 20
        }
      ]
    },
    {
      "cell_type": "markdown",
      "source": [
        "Probability ditribution function (cdf)\n",
        "\n",
        "$$binom.cdf(k, n, p) = {n \\choose 0}p^0(1-p)^n + {n \\choose 1}p(1-p)^{n-1} + \\cdots + {n \\choose k}p^k(1-p)^{n-k}$$\n",
        "\n",
        "En python ``` binom.cdf(k, n, p) ```\n",
        "\n"
      ],
      "metadata": {
        "id": "Cak8r3YkrVjt"
      }
    },
    {
      "cell_type": "code",
      "source": [
        "# Probabilidad de obtener 5 caras o menos en 10 lanzamientos de una moneda justa\n",
        "binom.cdf(k=5, n=10, p=0.5)"
      ],
      "metadata": {
        "colab": {
          "base_uri": "https://localhost:8080/"
        },
        "id": "bFIHtn16rvNg",
        "outputId": "a9f7cfe3-d4ba-40b5-d0ea-9244ba71b509"
      },
      "execution_count": 21,
      "outputs": [
        {
          "output_type": "execute_result",
          "data": {
            "text/plain": [
              "0.623046875"
            ]
          },
          "metadata": {},
          "execution_count": 21
        }
      ]
    },
    {
      "cell_type": "code",
      "source": [
        "#Probabilidad de obtener 50 caras o menos en 100 lanzamientos con probabilidad 0.3\n",
        "binom.cdf(k=50, n=100, p=0.3)"
      ],
      "metadata": {
        "colab": {
          "base_uri": "https://localhost:8080/"
        },
        "id": "c9VR0IJusDgs",
        "outputId": "f7303c52-489e-4ede-9330-c127d36401a8"
      },
      "execution_count": 22,
      "outputs": [
        {
          "output_type": "execute_result",
          "data": {
            "text/plain": [
              "0.9999909653138043"
            ]
          },
          "metadata": {},
          "execution_count": 22
        }
      ]
    },
    {
      "cell_type": "markdown",
      "source": [
        "Tenemos que $P(X > k) = 1 - P(X \\leq k)$, entonces"
      ],
      "metadata": {
        "id": "NHkKpYSFsalN"
      }
    },
    {
      "cell_type": "code",
      "source": [
        "#Probabilidad de obtener más de 59 caras luego de 100 lanzamientos con probabilidad 0.7\n",
        "1-binom.cdf(k=59, n=100, p=0.7)"
      ],
      "metadata": {
        "colab": {
          "base_uri": "https://localhost:8080/"
        },
        "id": "ewE0eeIGsMND",
        "outputId": "cbdbf309-09e7-4279-f936-7e2f2d0c1cff"
      },
      "execution_count": 23,
      "outputs": [
        {
          "output_type": "execute_result",
          "data": {
            "text/plain": [
              "0.9875015928335618"
            ]
          },
          "metadata": {},
          "execution_count": 23
        }
      ]
    },
    {
      "cell_type": "markdown",
      "source": [
        "Otra opción es usar ``` .sf ``` luego de `binom`\n",
        "\n"
      ],
      "metadata": {
        "id": "hRyQ1_mFuSe2"
      }
    },
    {
      "cell_type": "code",
      "source": [
        "#Probabilidad de obtener más de 59 caras luego de 100 lanzamientos con probabilidad 0.7\n",
        "binom.sf(k=59, n=100, p=0.7)"
      ],
      "metadata": {
        "colab": {
          "base_uri": "https://localhost:8080/"
        },
        "id": "dnqFD_UwubF8",
        "outputId": "217c6231-de89-4716-e4f4-f9212d09c138"
      },
      "execution_count": 24,
      "outputs": [
        {
          "output_type": "execute_result",
          "data": {
            "text/plain": [
              "0.9875015928335618"
            ]
          },
          "metadata": {},
          "execution_count": 24
        }
      ]
    },
    {
      "cell_type": "markdown",
      "source": [
        "\n",
        "\n",
        "---\n",
        "\n",
        "\n",
        "\n",
        "# Esperanza, varianza y media aritmética"
      ],
      "metadata": {
        "id": "fhclWD4au2pC"
      }
    },
    {
      "cell_type": "markdown",
      "source": [
        "**Esperanza**: suma de los posibles valores según su probabilidad.\n",
        "$$E(X)= \\sum_{i=1}^k x_ip_i=x_1p_p+x_2p_2+ \\cdots + x_kp_k$$\n",
        "\n",
        "En nuestro caso, para lanzar una moneda obtenermos \n",
        "$$E(X)= \\sum_{i=1}^2 x_ip_i=x_1p_p+x_2p_2 = 0(1-p) + 1 \\cdot p = p$$"
      ],
      "metadata": {
        "id": "6lGtpkV8vAe5"
      }
    },
    {
      "cell_type": "markdown",
      "source": [
        "**Media Aritmética**: Cada $x_i$ es el resultado de un experiemnto, como lanzar una moneda (puede ser 0 o 1). \n",
        "\n",
        "$$ \\overline{X} = \\frac{1}{n} \\sum_{i=1}^n x_i = \\frac{1}{n} (x_1+x_2+ \\cdots + x_n)$$\n",
        "\n",
        "En python usamos la función `scipy.stats.describe()` para obtener la media aritmética con `.mean`:"
      ],
      "metadata": {
        "id": "lEPZjh85rHcx"
      }
    },
    {
      "cell_type": "code",
      "source": [
        "from scipy.stats import describe\n",
        "describe([0,1]).mean"
      ],
      "metadata": {
        "colab": {
          "base_uri": "https://localhost:8080/"
        },
        "id": "R8_1FV_drg-6",
        "outputId": "3cb85dc1-bf9b-424c-e040-1755209678ed"
      },
      "execution_count": 25,
      "outputs": [
        {
          "output_type": "execute_result",
          "data": {
            "text/plain": [
              "0.5"
            ]
          },
          "metadata": {},
          "execution_count": 25
        }
      ]
    },
    {
      "cell_type": "markdown",
      "source": [
        "**Varianza**: Es una medida de dispersión. Es el valor esperado de la desviasión al cuadrado de ese vlor esperado. \n",
        "\n",
        "$$Var(X) = E[(X-E(X))^2]=\\sum_{i=1}^n p_i(x_i-E(X))^2$$\n",
        "\n",
        "En python usamos la función `scipy.stats.describe()` para obtener la media aritmética con `.variance`:"
      ],
      "metadata": {
        "id": "Og0kSOoRr9aC"
      }
    },
    {
      "cell_type": "code",
      "source": [
        "describe([0,1]).variance"
      ],
      "metadata": {
        "colab": {
          "base_uri": "https://localhost:8080/"
        },
        "id": "X8aDHWdfsSwm",
        "outputId": "6d877dd0-bacd-4a9c-b845-0a6f59db1668"
      },
      "execution_count": 26,
      "outputs": [
        {
          "output_type": "execute_result",
          "data": {
            "text/plain": [
              "0.5"
            ]
          },
          "metadata": {},
          "execution_count": 26
        }
      ]
    },
    {
      "cell_type": "markdown",
      "source": [
        "\n",
        "\n",
        "---\n",
        "\n",
        "# Distribuciones"
      ],
      "metadata": {
        "id": "LhORRXfWtBeB"
      }
    },
    {
      "cell_type": "markdown",
      "source": [],
      "metadata": {
        "id": "AhJ3d9g3tGaW"
      }
    }
  ]
}