{
  "nbformat": 4,
  "nbformat_minor": 0,
  "metadata": {
    "colab": {
      "provenance": [],
      "collapsed_sections": [
        "4LAqf9XCfRCD",
        "Bz5lXvN2fFMr",
        "RpfWKC5-nYP5",
        "fhclWD4au2pC",
        "LhORRXfWtBeB",
        "42k7DPh5R_iJ",
        "LUFMb7VQV1XR"
      ],
      "authorship_tag": "ABX9TyOQXqy7f5VRHMyKftMyoKrV",
      "include_colab_link": true
    },
    "kernelspec": {
      "name": "python3",
      "display_name": "Python 3"
    },
    "language_info": {
      "name": "python"
    }
  },
  "cells": [
    {
      "cell_type": "markdown",
      "metadata": {
        "id": "view-in-github",
        "colab_type": "text"
      },
      "source": [
        "<a href=\"https://colab.research.google.com/github/Crisel8a/Probabilidad-1/blob/main/probafundamentosdc.ipynb\" target=\"_parent\"><img src=\"https://colab.research.google.com/assets/colab-badge.svg\" alt=\"Open In Colab\"/></a>"
      ]
    },
    {
      "cell_type": "markdown",
      "source": [
        "<h1 align=\"center\" style=\"color: #cd7f32;\"> Fundamentos de Probabilidad en Python </h1>\n",
        "@Crisel Escalante"
      ],
      "metadata": {
        "id": "eYz2xalAPyDK"
      }
    },
    {
      "cell_type": "markdown",
      "source": [
        "- [Lanzando una moneda](#Lanzando-una-moneda)\n",
        "- [Generando una semilla aleatoria](#Generando-una-semilla-aleatoria)\n",
        "- [Funciones de masa y distribución](#Funciones-de-masa-y-distribución)\n",
        "- [Esperanza, varianza y media aritmética](#Esperanza,-varianza-y-media-aritmética)\n",
        "- [Distribuciones](#Distribuciones)"
      ],
      "metadata": {
        "id": "xPMfjEhru8SH"
      }
    },
    {
      "cell_type": "markdown",
      "source": [
        "\n",
        "\n",
        "---\n",
        "\n",
        "# <h2 align=\"center\" style=\"color: #cd7f32;\"> Cap. 1 Curso Data Camp </h2>"
      ],
      "metadata": {
        "id": "77A9eK1v_D-U"
      }
    },
    {
      "cell_type": "markdown",
      "source": [
        "\n",
        "\n",
        "---\n",
        "\n",
        "\n",
        "\n",
        "## Lanzando una moneda"
      ],
      "metadata": {
        "id": "4LAqf9XCfRCD"
      }
    },
    {
      "cell_type": "code",
      "source": [
        "from scipy.stats import bernoulli"
      ],
      "metadata": {
        "id": "xZ7nret3Py4t"
      },
      "execution_count": null,
      "outputs": []
    },
    {
      "cell_type": "code",
      "source": [
        "bernoulli.rvs(p=0.5, size=1) #simulando una moneda como un evento bernoulli"
      ],
      "metadata": {
        "colab": {
          "base_uri": "https://localhost:8080/"
        },
        "id": "NrojOiqrP-FD",
        "outputId": "420aeecf-adfd-426e-a874-ddedf459df16"
      },
      "execution_count": null,
      "outputs": [
        {
          "output_type": "execute_result",
          "data": {
            "text/plain": [
              "array([1])"
            ]
          },
          "metadata": {},
          "execution_count": 6
        }
      ]
    },
    {
      "cell_type": "code",
      "source": [
        "bernoulli.rvs(p=0.5, size=10) #simulando 10 monedas"
      ],
      "metadata": {
        "colab": {
          "base_uri": "https://localhost:8080/"
        },
        "id": "0egiJ4djQGdl",
        "outputId": "85aca52b-3a6b-44c2-e45a-9f162e596468"
      },
      "execution_count": null,
      "outputs": [
        {
          "output_type": "execute_result",
          "data": {
            "text/plain": [
              "array([1, 0, 1, 0, 0, 1, 0, 1, 0, 1])"
            ]
          },
          "metadata": {},
          "execution_count": 7
        }
      ]
    },
    {
      "cell_type": "markdown",
      "source": [
        "Suponiendo que 1 es cara y 0 es cruz, si queremos saber cuantas caras obtuvimos, entonces hacemos la suma"
      ],
      "metadata": {
        "id": "0Tc9WuTmRIib"
      }
    },
    {
      "cell_type": "code",
      "source": [
        "sum(bernoulli.rvs(p=0.5, size=10))"
      ],
      "metadata": {
        "colab": {
          "base_uri": "https://localhost:8080/"
        },
        "id": "TkAOMuyNQlw5",
        "outputId": "1546c5eb-82b6-46b0-d8f9-145ecb99caee"
      },
      "execution_count": null,
      "outputs": [
        {
          "output_type": "execute_result",
          "data": {
            "text/plain": [
              "7"
            ]
          },
          "metadata": {},
          "execution_count": 8
        }
      ]
    },
    {
      "cell_type": "code",
      "source": [
        "from scipy.stats import binom"
      ],
      "metadata": {
        "id": "5bpiJZvaRO4O"
      },
      "execution_count": null,
      "outputs": []
    },
    {
      "cell_type": "code",
      "source": [
        "binom.rvs(n=10, p=0.5, size=1)"
      ],
      "metadata": {
        "colab": {
          "base_uri": "https://localhost:8080/"
        },
        "id": "CN3ddQZJdsa7",
        "outputId": "0a257e27-6970-4c92-b349-fa0fb0cb98fb"
      },
      "execution_count": null,
      "outputs": [
        {
          "output_type": "execute_result",
          "data": {
            "text/plain": [
              "array([8])"
            ]
          },
          "metadata": {},
          "execution_count": 28
        }
      ]
    },
    {
      "cell_type": "code",
      "source": [
        "binom.rvs(n=10, p=0.5, size=10) #muchos lanzamientos"
      ],
      "metadata": {
        "colab": {
          "base_uri": "https://localhost:8080/"
        },
        "id": "0A_0n8Rdd-49",
        "outputId": "00c2a6d6-31b2-4a81-e156-f5944df327e4"
      },
      "execution_count": null,
      "outputs": [
        {
          "output_type": "execute_result",
          "data": {
            "text/plain": [
              "array([6, 5, 3, 3, 3, 7, 5, 6, 2, 8])"
            ]
          },
          "metadata": {},
          "execution_count": 29
        }
      ]
    },
    {
      "cell_type": "markdown",
      "source": [
        "\n",
        "\n",
        "\n",
        "\n",
        "---\n",
        "\n",
        "\n",
        "## Generando una semilla aleatoria"
      ],
      "metadata": {
        "id": "Bz5lXvN2fFMr"
      }
    },
    {
      "cell_type": "markdown",
      "source": [
        "Usamos el parámetro ``` random_state ``` en la función ``` rvs() ```\n",
        "\n",
        "\n",
        "\n"
      ],
      "metadata": {
        "id": "0TyMeK2HfYr4"
      }
    },
    {
      "cell_type": "code",
      "source": [
        "from scipy.stats import binom\n",
        "binom.rvs(n=10, p=0.5, size=1, random_state=42)"
      ],
      "metadata": {
        "colab": {
          "base_uri": "https://localhost:8080/"
        },
        "id": "M9esoL2Gfule",
        "outputId": "b3c023cc-e762-4465-aba5-f6200dfc4dac"
      },
      "execution_count": null,
      "outputs": [
        {
          "output_type": "execute_result",
          "data": {
            "text/plain": [
              "array([4])"
            ]
          },
          "metadata": {},
          "execution_count": 14
        }
      ]
    },
    {
      "cell_type": "markdown",
      "source": [
        "Luego, usamos ``` numpy.random.seed() ``` importando numpy\n",
        "\n"
      ],
      "metadata": {
        "id": "5dh0XGqAgbN5"
      }
    },
    {
      "cell_type": "code",
      "source": [
        "import numpy as np\n",
        "np.random.seed(42)"
      ],
      "metadata": {
        "id": "3tmMA6c1goCN"
      },
      "execution_count": null,
      "outputs": []
    },
    {
      "cell_type": "markdown",
      "source": [
        "Vamos a lanzar 10 monedas justas con una semilla aleatoria"
      ],
      "metadata": {
        "id": "H-BVnOjCgums"
      }
    },
    {
      "cell_type": "code",
      "source": [
        "from scipy.stats import binom\n",
        "import numpy as np\n",
        "\n",
        "\n",
        "np.random.seed(42)\n",
        "binom.rvs(n=10, p=0.5, size=1)"
      ],
      "metadata": {
        "colab": {
          "base_uri": "https://localhost:8080/"
        },
        "id": "2VwHOShHgzqX",
        "outputId": "2ceeed0f-35b2-401e-a76d-b17ab4c5c87e"
      },
      "execution_count": null,
      "outputs": [
        {
          "output_type": "execute_result",
          "data": {
            "text/plain": [
              "array([4])"
            ]
          },
          "metadata": {},
          "execution_count": 16
        }
      ]
    },
    {
      "cell_type": "markdown",
      "source": [
        "---\n",
        "\n",
        "## Funciones de masa y distribución"
      ],
      "metadata": {
        "id": "RpfWKC5-nYP5"
      }
    },
    {
      "cell_type": "markdown",
      "source": [
        "Funciones de probabilidad $f(x)=P(X = x)$\n",
        "- Las funciones de **masa** son para variables aleatorias **discreta**. \n",
        "- Las funciones de **densidad** son para variables aleatorias **continuas**. \n",
        "\n",
        "La función de distribución $F(x)=P(X \\leq x)$\n"
      ],
      "metadata": {
        "id": "DcQsLEMHtAyK"
      }
    },
    {
      "cell_type": "markdown",
      "source": [
        "Probability mass function (pmf)\n",
        "$$binomial.pmf(k,n,p) = {n \\choose k}p^k (1-p)^{n-k}$$\n",
        "\n",
        "En python ``` binom.pmf(k, n, p) ```\n",
        "\n"
      ],
      "metadata": {
        "id": "Hd6W5iavnhMP"
      }
    },
    {
      "cell_type": "code",
      "source": [
        "#Probabilidad de obtener dos caras luego de 10 lanzamientos de una moneda justa\n",
        "binom.pmf(k=2, n=10, p=0.5)"
      ],
      "metadata": {
        "colab": {
          "base_uri": "https://localhost:8080/"
        },
        "id": "aQ9ZDdLLnm1l",
        "outputId": "15cc960c-ef58-4d2d-fdcf-5ea92d00f24c"
      },
      "execution_count": null,
      "outputs": [
        {
          "output_type": "execute_result",
          "data": {
            "text/plain": [
              "0.04394531250000004"
            ]
          },
          "metadata": {},
          "execution_count": 17
        }
      ]
    },
    {
      "cell_type": "code",
      "source": [
        "# Probabilidad de obtener 5 caras luego de 10 lanzamientos de una moneda justa\n",
        "binom.pmf(k=5, n=10, p=0.5)"
      ],
      "metadata": {
        "colab": {
          "base_uri": "https://localhost:8080/"
        },
        "id": "se3Z0ZthoU1-",
        "outputId": "1911b98b-ce72-4758-dead-b3bce7dd38d9"
      },
      "execution_count": null,
      "outputs": [
        {
          "output_type": "execute_result",
          "data": {
            "text/plain": [
              "0.24609375000000003"
            ]
          },
          "metadata": {},
          "execution_count": 18
        }
      ]
    },
    {
      "cell_type": "code",
      "source": [
        "# Probabilidad de obtener 50 caras luego de 100 lanzamientos con probabilidad 0.3\n",
        "binom.pmf(k=50, n=100, p=0.3)"
      ],
      "metadata": {
        "colab": {
          "base_uri": "https://localhost:8080/"
        },
        "id": "V5lFf30ZqsO5",
        "outputId": "2a6ff606-9abc-466e-c314-0608e7370d00"
      },
      "execution_count": null,
      "outputs": [
        {
          "output_type": "execute_result",
          "data": {
            "text/plain": [
              "1.302622713144528e-05"
            ]
          },
          "metadata": {},
          "execution_count": 19
        }
      ]
    },
    {
      "cell_type": "code",
      "source": [
        "#Probabilidad de obtener 65 caras luego de 100 lanzamientos con probabilidad 0.7\n",
        "binom.pmf(k=65, n=100, p=0.7)"
      ],
      "metadata": {
        "colab": {
          "base_uri": "https://localhost:8080/"
        },
        "id": "EQDG7LfZq7zS",
        "outputId": "38b0419f-f34b-4159-aab4-910487549f2a"
      },
      "execution_count": null,
      "outputs": [
        {
          "output_type": "execute_result",
          "data": {
            "text/plain": [
              "0.04677968235272997"
            ]
          },
          "metadata": {},
          "execution_count": 20
        }
      ]
    },
    {
      "cell_type": "markdown",
      "source": [
        "Probability ditribution function (cdf)\n",
        "\n",
        "$$binom.cdf(k, n, p) = {n \\choose 0}p^0(1-p)^n + {n \\choose 1}p(1-p)^{n-1} + \\cdots + {n \\choose k}p^k(1-p)^{n-k}$$\n",
        "\n",
        "En python ``` binom.cdf(k, n, p) ```\n",
        "\n"
      ],
      "metadata": {
        "id": "Cak8r3YkrVjt"
      }
    },
    {
      "cell_type": "code",
      "source": [
        "# Probabilidad de obtener 5 caras o menos en 10 lanzamientos de una moneda justa\n",
        "binom.cdf(k=5, n=10, p=0.5)"
      ],
      "metadata": {
        "colab": {
          "base_uri": "https://localhost:8080/"
        },
        "id": "bFIHtn16rvNg",
        "outputId": "a9f7cfe3-d4ba-40b5-d0ea-9244ba71b509"
      },
      "execution_count": null,
      "outputs": [
        {
          "output_type": "execute_result",
          "data": {
            "text/plain": [
              "0.623046875"
            ]
          },
          "metadata": {},
          "execution_count": 21
        }
      ]
    },
    {
      "cell_type": "code",
      "source": [
        "#Probabilidad de obtener 50 caras o menos en 100 lanzamientos con probabilidad 0.3\n",
        "binom.cdf(k=50, n=100, p=0.3)"
      ],
      "metadata": {
        "colab": {
          "base_uri": "https://localhost:8080/"
        },
        "id": "c9VR0IJusDgs",
        "outputId": "f7303c52-489e-4ede-9330-c127d36401a8"
      },
      "execution_count": null,
      "outputs": [
        {
          "output_type": "execute_result",
          "data": {
            "text/plain": [
              "0.9999909653138043"
            ]
          },
          "metadata": {},
          "execution_count": 22
        }
      ]
    },
    {
      "cell_type": "markdown",
      "source": [
        "Tenemos que $P(X > k) = 1 - P(X \\leq k)$, entonces"
      ],
      "metadata": {
        "id": "NHkKpYSFsalN"
      }
    },
    {
      "cell_type": "code",
      "source": [
        "#Probabilidad de obtener más de 59 caras luego de 100 lanzamientos con probabilidad 0.7\n",
        "1-binom.cdf(k=59, n=100, p=0.7)"
      ],
      "metadata": {
        "colab": {
          "base_uri": "https://localhost:8080/"
        },
        "id": "ewE0eeIGsMND",
        "outputId": "cbdbf309-09e7-4279-f936-7e2f2d0c1cff"
      },
      "execution_count": null,
      "outputs": [
        {
          "output_type": "execute_result",
          "data": {
            "text/plain": [
              "0.9875015928335618"
            ]
          },
          "metadata": {},
          "execution_count": 23
        }
      ]
    },
    {
      "cell_type": "markdown",
      "source": [
        "Otra opción es usar ``` .sf ``` luego de `binom`\n",
        "\n"
      ],
      "metadata": {
        "id": "hRyQ1_mFuSe2"
      }
    },
    {
      "cell_type": "code",
      "source": [
        "#Probabilidad de obtener más de 59 caras luego de 100 lanzamientos con probabilidad 0.7\n",
        "binom.sf(k=59, n=100, p=0.7)"
      ],
      "metadata": {
        "colab": {
          "base_uri": "https://localhost:8080/"
        },
        "id": "dnqFD_UwubF8",
        "outputId": "217c6231-de89-4716-e4f4-f9212d09c138"
      },
      "execution_count": null,
      "outputs": [
        {
          "output_type": "execute_result",
          "data": {
            "text/plain": [
              "0.9875015928335618"
            ]
          },
          "metadata": {},
          "execution_count": 24
        }
      ]
    },
    {
      "cell_type": "markdown",
      "source": [
        "\n",
        "\n",
        "---\n",
        "\n",
        "\n",
        "\n",
        "## Esperanza, varianza y media aritmética"
      ],
      "metadata": {
        "id": "fhclWD4au2pC"
      }
    },
    {
      "cell_type": "markdown",
      "source": [
        "**Esperanza**: suma de los posibles valores según su probabilidad.\n",
        "$$E(X)= \\sum_{i=1}^k x_ip_i=x_1p_p+x_2p_2+ \\cdots + x_kp_k$$\n",
        "\n",
        "En nuestro caso, para lanzar una moneda obtenermos \n",
        "$$E(X)= \\sum_{i=1}^2 x_ip_i=x_1p_p+x_2p_2 = 0(1-p) + 1 \\cdot p = p$$"
      ],
      "metadata": {
        "id": "6lGtpkV8vAe5"
      }
    },
    {
      "cell_type": "markdown",
      "source": [
        "**Media Aritmética**: Cada $x_i$ es el resultado de un experiemnto, como lanzar una moneda (puede ser 0 o 1). \n",
        "\n",
        "$$ \\overline{X} = \\frac{1}{n} \\sum_{i=1}^n x_i = \\frac{1}{n} (x_1+x_2+ \\cdots + x_n)$$\n",
        "\n",
        "En python usamos la función `scipy.stats.describe()` para obtener la media aritmética con `.mean`:"
      ],
      "metadata": {
        "id": "lEPZjh85rHcx"
      }
    },
    {
      "cell_type": "code",
      "source": [
        "from scipy.stats import describe\n",
        "describe([0,1]).mean"
      ],
      "metadata": {
        "colab": {
          "base_uri": "https://localhost:8080/"
        },
        "id": "R8_1FV_drg-6",
        "outputId": "3cb85dc1-bf9b-424c-e040-1755209678ed"
      },
      "execution_count": null,
      "outputs": [
        {
          "output_type": "execute_result",
          "data": {
            "text/plain": [
              "0.5"
            ]
          },
          "metadata": {},
          "execution_count": 25
        }
      ]
    },
    {
      "cell_type": "markdown",
      "source": [
        "**Varianza**: Es una medida de dispersión. Es el valor esperado de la desviasión al cuadrado de ese vlor esperado. \n",
        "\n",
        "$$Var(X) = E[(X-E(X))^2]=\\sum_{i=1}^n p_i(x_i-E(X))^2$$\n",
        "\n",
        "En python usamos la función `scipy.stats.describe()` para obtener la media aritmética con `.variance`:"
      ],
      "metadata": {
        "id": "Og0kSOoRr9aC"
      }
    },
    {
      "cell_type": "code",
      "source": [
        "describe([0,1]).variance"
      ],
      "metadata": {
        "colab": {
          "base_uri": "https://localhost:8080/"
        },
        "id": "X8aDHWdfsSwm",
        "outputId": "6d877dd0-bacd-4a9c-b845-0a6f59db1668"
      },
      "execution_count": null,
      "outputs": [
        {
          "output_type": "execute_result",
          "data": {
            "text/plain": [
              "0.5"
            ]
          },
          "metadata": {},
          "execution_count": 26
        }
      ]
    },
    {
      "cell_type": "markdown",
      "source": [
        "\n",
        "\n",
        "---\n",
        "\n",
        "## Distribuciones"
      ],
      "metadata": {
        "id": "LhORRXfWtBeB"
      }
    },
    {
      "cell_type": "markdown",
      "source": [
        "**Distribución Binomial**\n",
        "En python usamos el método `binom.stats()` para conocer la esperanza y la varianza de esta distribución."
      ],
      "metadata": {
        "id": "AhJ3d9g3tGaW"
      }
    },
    {
      "cell_type": "markdown",
      "source": [
        "¿cuál es la esperanza y varianza para 10 lanzamientos de una moneda justa?"
      ],
      "metadata": {
        "id": "wbvS81ESuWe6"
      }
    },
    {
      "cell_type": "code",
      "source": [
        "binom.stats(n=10, p=0.5)"
      ],
      "metadata": {
        "colab": {
          "base_uri": "https://localhost:8080/"
        },
        "id": "IPMTBfGqtrRk",
        "outputId": "1bfbcb9b-3758-4386-9df6-efaa86aa9d06"
      },
      "execution_count": null,
      "outputs": [
        {
          "output_type": "execute_result",
          "data": {
            "text/plain": [
              "(array(5.), array(2.5))"
            ]
          },
          "metadata": {},
          "execution_count": 30
        }
      ]
    },
    {
      "cell_type": "markdown",
      "source": [
        "¿cuál es la esperanza y varianza para el experimento de lanzar una moneda?"
      ],
      "metadata": {
        "id": "_gzZW7W1t9pb"
      }
    },
    {
      "cell_type": "code",
      "source": [
        "binom.stats(n=1, p=0.5)"
      ],
      "metadata": {
        "colab": {
          "base_uri": "https://localhost:8080/"
        },
        "id": "sWjshf9buByX",
        "outputId": "a14abf37-bed9-47c8-9040-cef2eeb30102"
      },
      "execution_count": null,
      "outputs": [
        {
          "output_type": "execute_result",
          "data": {
            "text/plain": [
              "(array(0.5), array(0.25))"
            ]
          },
          "metadata": {},
          "execution_count": 31
        }
      ]
    },
    {
      "cell_type": "markdown",
      "source": [
        "¿cuál es el valor esperado y la varianza para una moneda injusta con probabilidad de éxito del $30\\%$?"
      ],
      "metadata": {
        "id": "rbJJfYrkuF08"
      }
    },
    {
      "cell_type": "code",
      "source": [
        "binom.stats(n=1, p=0.3)"
      ],
      "metadata": {
        "colab": {
          "base_uri": "https://localhost:8080/"
        },
        "id": "yptxEiWluNbT",
        "outputId": "05d7b2d6-854b-4600-ca63-8beb8ad89fb4"
      },
      "execution_count": null,
      "outputs": [
        {
          "output_type": "execute_result",
          "data": {
            "text/plain": [
              "(array(0.3), array(0.21))"
            ]
          },
          "metadata": {},
          "execution_count": 32
        }
      ]
    },
    {
      "cell_type": "markdown",
      "source": [
        "\n",
        "\n",
        "---\n",
        "\n",
        "# <h2 align=\"center\" style=\"color: #cd7f32;\"> Cap. 2 Curso Data Camp </h2>"
      ],
      "metadata": {
        "id": "_hoYwJNi_wd3"
      }
    },
    {
      "cell_type": "markdown",
      "source": [
        "## Independencia"
      ],
      "metadata": {
        "id": "NXHaa2AD_0it"
      }
    },
    {
      "cell_type": "markdown",
      "source": [
        "\n",
        "\n",
        "---\n",
        "\n",
        "# <h2 align=\"center\" style=\"color: #cd7f32;\"> Cap. 3 Curso Data Camp </h2>"
      ],
      "metadata": {
        "id": "FDCTp59IQQeI"
      }
    },
    {
      "cell_type": "markdown",
      "source": [
        "## Distribución Normal"
      ],
      "metadata": {
        "id": "42k7DPh5R_iJ"
      }
    },
    {
      "cell_type": "markdown",
      "source": [
        "### Muestreo Normal"
      ],
      "metadata": {
        "id": "PXCVzgFytV-C"
      }
    },
    {
      "cell_type": "code",
      "source": [
        " # Import norm, matplotlib.pyplot, and seaborn\n",
        "from scipy.stats import norm\n",
        "import matplotlib.pyplot as plt\n",
        "import seaborn as sns"
      ],
      "metadata": {
        "id": "GSEUDltkSHYz"
      },
      "execution_count": null,
      "outputs": []
    },
    {
      "cell_type": "code",
      "source": [
        "# Create the sample using norm.rvs()\n",
        "sample = norm.rvs(loc=0, scale=1, size=10000, random_state=13)"
      ],
      "metadata": {
        "id": "skZL0QOISa1L"
      },
      "execution_count": null,
      "outputs": []
    },
    {
      "cell_type": "code",
      "source": [
        "# Plot the sample\n",
        "sns.distplot(sample)\n",
        "plt.show()"
      ],
      "metadata": {
        "colab": {
          "base_uri": "https://localhost:8080/",
          "height": 320
        },
        "id": "Fo7zWbznSh8S",
        "outputId": "e873d479-f133-4739-f4e7-3d4069385919"
      },
      "execution_count": null,
      "outputs": [
        {
          "output_type": "stream",
          "name": "stderr",
          "text": [
            "/usr/local/lib/python3.8/dist-packages/seaborn/distributions.py:2619: FutureWarning: `distplot` is a deprecated function and will be removed in a future version. Please adapt your code to use either `displot` (a figure-level function with similar flexibility) or `histplot` (an axes-level function for histograms).\n",
            "  warnings.warn(msg, FutureWarning)\n"
          ]
        },
        {
          "output_type": "display_data",
          "data": {
            "text/plain": [
              "<Figure size 432x288 with 1 Axes>"
            ],
            "image/png": "[encoded data removed]"
          },
          "metadata": {
            "needs_background": "light"
          }
        }
      ]
    },
    {
      "cell_type": "markdown",
      "source": [
        "### Densidad de Probabilidad"
      ],
      "metadata": {
        "id": "fx38-iytTKsK"
      }
    },
    {
      "cell_type": "code",
      "source": [
        " # Import norm\n",
        "from scipy.stats import norm"
      ],
      "metadata": {
        "id": "AAQ1hT62TPED"
      },
      "execution_count": null,
      "outputs": []
    },
    {
      "cell_type": "markdown",
      "source": [
        "Función de densidad"
      ],
      "metadata": {
        "id": "vbFMp0lzKAqS"
      }
    },
    {
      "cell_type": "code",
      "source": [
        "# Calculate the probability density\n",
        "# with pdf\n",
        "norm.pdf(-1, loc=0, scale=1)"
      ],
      "metadata": {
        "colab": {
          "base_uri": "https://localhost:8080/"
        },
        "id": "lH4h7UJxTZXS",
        "outputId": "b6b3d177-a37a-4323-b635-4383d7ca55a7"
      },
      "execution_count": null,
      "outputs": [
        {
          "output_type": "execute_result",
          "data": {
            "text/plain": [
              "0.24197072451914337"
            ]
          },
          "metadata": {},
          "execution_count": 5
        }
      ]
    },
    {
      "cell_type": "markdown",
      "source": [
        "El parámetro `loc` especifica el promedio y el parametro `scale` especifica la desviación estandar."
      ],
      "metadata": {
        "id": "bj5IrkFcUEoo"
      }
    },
    {
      "cell_type": "code",
      "source": [
        "  # Calculate cumulative df of -1\n",
        "norm.cdf(-1)"
      ],
      "metadata": {
        "colab": {
          "base_uri": "https://localhost:8080/"
        },
        "id": "8_UbPy-bUkOH",
        "outputId": "c377018e-ef9b-4c18-befe-5a1cb9d5dff6"
      },
      "execution_count": null,
      "outputs": [
        {
          "output_type": "execute_result",
          "data": {
            "text/plain": [
              "0.15865525393145707"
            ]
          },
          "metadata": {},
          "execution_count": 6
        }
      ]
    },
    {
      "cell_type": "code",
      "source": [
        "# Calculate cdf of 0.5\n",
        "norm.cdf(0.5)"
      ],
      "metadata": {
        "colab": {
          "base_uri": "https://localhost:8080/"
        },
        "id": "hAZBhprsUpjy",
        "outputId": "b61d2009-9624-493b-9a05-806f948d1019"
      },
      "execution_count": null,
      "outputs": [
        {
          "output_type": "execute_result",
          "data": {
            "text/plain": [
              "0.6914624612740131"
            ]
          },
          "metadata": {},
          "execution_count": 7
        }
      ]
    },
    {
      "cell_type": "code",
      "source": [
        "# Calculate ppf of 0.2\n",
        "norm.ppf(0.2)"
      ],
      "metadata": {
        "colab": {
          "base_uri": "https://localhost:8080/"
        },
        "id": "CAuLNiacUr3c",
        "outputId": "45b975aa-f0cd-4c6f-e285-2dd818db10e6"
      },
      "execution_count": null,
      "outputs": [
        {
          "output_type": "execute_result",
          "data": {
            "text/plain": [
              "-0.8416212335729142"
            ]
          },
          "metadata": {},
          "execution_count": 8
        }
      ]
    },
    {
      "cell_type": "code",
      "source": [
        "# Calculate ppf of 55%\n",
        "norm.ppf(0.55)"
      ],
      "metadata": {
        "colab": {
          "base_uri": "https://localhost:8080/"
        },
        "id": "JSGjVpFhUzzh",
        "outputId": "b59db458-cbdb-4a8c-d51a-89ec1faeec8f"
      },
      "execution_count": null,
      "outputs": [
        {
          "output_type": "execute_result",
          "data": {
            "text/plain": [
              "0.12566134685507416"
            ]
          },
          "metadata": {},
          "execution_count": 9
        }
      ]
    },
    {
      "cell_type": "code",
      "source": [
        "#Calculate cdf of value 0\n",
        "norm.cdf(0)"
      ],
      "metadata": {
        "colab": {
          "base_uri": "https://localhost:8080/"
        },
        "id": "rbT7HlSdU2Ce",
        "outputId": "c46f4014-47f2-449c-a3db-d883ac0d7144"
      },
      "execution_count": null,
      "outputs": [
        {
          "output_type": "execute_result",
          "data": {
            "text/plain": [
              "0.5"
            ]
          },
          "metadata": {},
          "execution_count": 10
        }
      ]
    },
    {
      "cell_type": "code",
      "source": [
        "# Calculate ppf of probability 50%\n",
        "norm.ppf(0.5)"
      ],
      "metadata": {
        "colab": {
          "base_uri": "https://localhost:8080/"
        },
        "id": "f5ifsPvOU7GR",
        "outputId": "a8974be8-4c25-4ca6-b1a4-80f7d081f008"
      },
      "execution_count": null,
      "outputs": [
        {
          "output_type": "execute_result",
          "data": {
            "text/plain": [
              "0.0"
            ]
          },
          "metadata": {},
          "execution_count": 11
        }
      ]
    },
    {
      "cell_type": "code",
      "source": [
        "# Create our variables\n",
        "a = -1\n",
        "b=1\n",
        "# Calculate the probability between \n",
        "# two values, subtracting \n",
        "norm.cdf(b) - norm.cdf(a)"
      ],
      "metadata": {
        "colab": {
          "base_uri": "https://localhost:8080/"
        },
        "id": "yayxqwZPU9aa",
        "outputId": "fce3f152-7109-499a-92dc-465290931381"
      },
      "execution_count": null,
      "outputs": [
        {
          "output_type": "execute_result",
          "data": {
            "text/plain": [
              "0.6826894921370859"
            ]
          },
          "metadata": {},
          "execution_count": 15
        }
      ]
    },
    {
      "cell_type": "code",
      "source": [
        "# Create our variable\n",
        "a=1\n",
        "# Calculate the complement\n",
        "# of cdf() using sf()\n",
        "norm.sf(a)"
      ],
      "metadata": {
        "colab": {
          "base_uri": "https://localhost:8080/"
        },
        "id": "LcW4pcxLVQCW",
        "outputId": "7bfb6ac1-4eef-4549-b6bc-22428ae5e730"
      },
      "execution_count": null,
      "outputs": [
        {
          "output_type": "execute_result",
          "data": {
            "text/plain": [
              "0.15865525393145707"
            ]
          },
          "metadata": {},
          "execution_count": 16
        }
      ]
    },
    {
      "cell_type": "code",
      "source": [
        "# Create our variables\n",
        "a = -2\n",
        "b=2\n",
        "# Calculate tail probability \n",
        "# by adding each tail \n",
        "norm.cdf(a) + norm.sf(b)"
      ],
      "metadata": {
        "colab": {
          "base_uri": "https://localhost:8080/"
        },
        "id": "TMwPHnwkVZem",
        "outputId": "286a0f79-3ecd-4ec7-e238-d41508e81e98"
      },
      "execution_count": null,
      "outputs": [
        {
          "output_type": "execute_result",
          "data": {
            "text/plain": [
              "0.04550026389635839"
            ]
          },
          "metadata": {},
          "execution_count": 17
        }
      ]
    },
    {
      "cell_type": "code",
      "source": [
        "# Calculate tail probability\n",
        "# by adding each tail\n",
        "norm.cdf(a) + norm.sf(b)"
      ],
      "metadata": {
        "colab": {
          "base_uri": "https://localhost:8080/"
        },
        "id": "sqjIslpeVjcc",
        "outputId": "73548791-c0e4-428c-fa23-15c4328dd367"
      },
      "execution_count": null,
      "outputs": [
        {
          "output_type": "execute_result",
          "data": {
            "text/plain": [
              "0.04550026389635839"
            ]
          },
          "metadata": {},
          "execution_count": 19
        }
      ]
    },
    {
      "cell_type": "code",
      "source": [
        "# Create our variable\n",
        "alpha = 0.95\n",
        "# Calculate the interval\n",
        "norm.interval(alpha)"
      ],
      "metadata": {
        "colab": {
          "base_uri": "https://localhost:8080/"
        },
        "id": "Mw923XacVl9F",
        "outputId": "dae0d958-3328-4037-a496-e76e051911a8"
      },
      "execution_count": null,
      "outputs": [
        {
          "output_type": "execute_result",
          "data": {
            "text/plain": [
              "(-1.959963984540054, 1.959963984540054)"
            ]
          },
          "metadata": {},
          "execution_count": 21
        }
      ]
    },
    {
      "cell_type": "markdown",
      "source": [
        "## Distribución de Poisson"
      ],
      "metadata": {
        "id": "LUFMb7VQV1XR"
      }
    },
    {
      "cell_type": "code",
      "source": [
        "# Import poisson\n",
        "from scipy.stats import poisson"
      ],
      "metadata": {
        "id": "kaxnl1_pV51J"
      },
      "execution_count": 3,
      "outputs": []
    },
    {
      "cell_type": "markdown",
      "source": [
        "Función probabilidad de masa"
      ],
      "metadata": {
        "id": "e_RwrBg6J3W4"
      }
    },
    {
      "cell_type": "code",
      "source": [
        "# Calculate the probability mass\n",
        "# with pmf\n",
        "poisson.pmf(k=3, mu=2.2)"
      ],
      "metadata": {
        "colab": {
          "base_uri": "https://localhost:8080/"
        },
        "id": "MDn-oBBkscVO",
        "outputId": "4d7ff1b1-e5fc-498b-991a-284b90d02af5"
      },
      "execution_count": 4,
      "outputs": [
        {
          "output_type": "execute_result",
          "data": {
            "text/plain": [
              "0.19663867170702193"
            ]
          },
          "metadata": {},
          "execution_count": 4
        }
      ]
    },
    {
      "cell_type": "markdown",
      "source": [
        "El parámetro `mu` especifica el promedio de eventos éxitosos "
      ],
      "metadata": {
        "id": "Zx7MqN11sqEQ"
      }
    },
    {
      "cell_type": "code",
      "source": [
        "# Calculate pmf of 0\n",
        "poisson.pmf(k=0, mu=2.2)"
      ],
      "metadata": {
        "colab": {
          "base_uri": "https://localhost:8080/"
        },
        "id": "ZQ_7MNN2stOe",
        "outputId": "43f81395-b5fd-45c9-96d7-9ac37246c2e1"
      },
      "execution_count": 5,
      "outputs": [
        {
          "output_type": "execute_result",
          "data": {
            "text/plain": [
              "0.11080315836233387"
            ]
          },
          "metadata": {},
          "execution_count": 5
        }
      ]
    },
    {
      "cell_type": "code",
      "source": [
        "# Calculate pmf of 6\n",
        "poisson.pmf(k=6, mu=2.2)"
      ],
      "metadata": {
        "colab": {
          "base_uri": "https://localhost:8080/"
        },
        "id": "6bP7iazCs19K",
        "outputId": "ce881bb1-a757-426b-f735-a5d0ba39ba30"
      },
      "execution_count": 6,
      "outputs": [
        {
          "output_type": "execute_result",
          "data": {
            "text/plain": [
              "0.01744840480280308"
            ]
          },
          "metadata": {},
          "execution_count": 6
        }
      ]
    },
    {
      "cell_type": "markdown",
      "source": [
        "### Generando el muestreo"
      ],
      "metadata": {
        "id": "iHQ7CrBQtQW1"
      }
    },
    {
      "cell_type": "code",
      "source": [
        "# Import poisson, matplotlib.pyplot, and seaborn\n",
        "from scipy.stats import poisson\n",
        "import matplotlib.pyplot as plt\n",
        "import seaborn as sns"
      ],
      "metadata": {
        "id": "1BRcQkoZtfVO"
      },
      "execution_count": 7,
      "outputs": []
    },
    {
      "cell_type": "code",
      "source": [
        "# Create the sample using poisson.rvs()\n",
        "sample = poisson.rvs(mu=2.2, size=10000, random_state=13)"
      ],
      "metadata": {
        "id": "b5bjl5mGtlAO"
      },
      "execution_count": 8,
      "outputs": []
    },
    {
      "cell_type": "code",
      "source": [
        "# Plot the sample\n",
        "sns.distplot(sample, kde=False)\n",
        "plt.show()"
      ],
      "metadata": {
        "colab": {
          "base_uri": "https://localhost:8080/",
          "height": 320
        },
        "id": "LVjY-DNgtmzv",
        "outputId": "0d0e58a9-2963-4a3f-83d6-b1387990d7b0"
      },
      "execution_count": 9,
      "outputs": [
        {
          "output_type": "stream",
          "name": "stderr",
          "text": [
            "/usr/local/lib/python3.8/dist-packages/seaborn/distributions.py:2619: FutureWarning: `distplot` is a deprecated function and will be removed in a future version. Please adapt your code to use either `displot` (a figure-level function with similar flexibility) or `histplot` (an axes-level function for histograms).\n",
            "  warnings.warn(msg, FutureWarning)\n"
          ]
        },
        {
          "output_type": "display_data",
          "data": {
            "text/plain": [
              "<Figure size 432x288 with 1 Axes>"
            ],
            "image/png": "[encoded data removed]"
          },
          "metadata": {
            "needs_background": "light"
          }
        }
      ]
    },
    {
      "cell_type": "markdown",
      "source": [
        "## Distribucion Geométrica"
      ],
      "metadata": {
        "id": "36VUnaertr8o"
      }
    },
    {
      "cell_type": "code",
      "source": [
        " # Import geom\n",
        "from scipy.stats import geom"
      ],
      "metadata": {
        "id": "F9J9T-3Zttqv"
      },
      "execution_count": 1,
      "outputs": []
    },
    {
      "cell_type": "markdown",
      "source": [
        "Función probabilidad de masa"
      ],
      "metadata": {
        "id": "HRcug2CCJ8rt"
      }
    },
    {
      "cell_type": "code",
      "source": [
        "# Calculate the probability mass\n",
        "# with pmf\n",
        "geom.pmf(k=30, p=0.0333)"
      ],
      "metadata": {
        "colab": {
          "base_uri": "https://localhost:8080/"
        },
        "id": "MiURNb1CJbTj",
        "outputId": "bc528394-a2db-44b1-9650-6122eb6a2b7c"
      },
      "execution_count": 2,
      "outputs": [
        {
          "output_type": "execute_result",
          "data": {
            "text/plain": [
              "0.012471080216374412"
            ]
          },
          "metadata": {},
          "execution_count": 2
        }
      ]
    },
    {
      "cell_type": "markdown",
      "source": [
        "el parámetro $p$ indica la probabilidad de éxito. "
      ],
      "metadata": {
        "id": "t68OOHP1Jnz5"
      }
    },
    {
      "cell_type": "code",
      "source": [
        "# Calculate cumulative distribution function of 4\n",
        "geom.cdf(k=4, p=0.3)"
      ],
      "metadata": {
        "colab": {
          "base_uri": "https://localhost:8080/"
        },
        "id": "dYLDzJ00JrH1",
        "outputId": "e2ada832-48cf-416d-de67-19c2d036fc8d"
      },
      "execution_count": 10,
      "outputs": [
        {
          "output_type": "execute_result",
          "data": {
            "text/plain": [
              "0.7599"
            ]
          },
          "metadata": {},
          "execution_count": 10
        }
      ]
    },
    {
      "cell_type": "code",
      "source": [
        "# Calculate survuval funtion of 2\n",
        "geom.sf(k=2, p=0.3)"
      ],
      "metadata": {
        "colab": {
          "base_uri": "https://localhost:8080/"
        },
        "id": "F9vZNHdIKKEe",
        "outputId": "029beafb-19b6-440d-e021-6cf93c6b8228"
      },
      "execution_count": 11,
      "outputs": [
        {
          "output_type": "execute_result",
          "data": {
            "text/plain": [
              "0.49000000000000005"
            ]
          },
          "metadata": {},
          "execution_count": 11
        }
      ]
    },
    {
      "cell_type": "code",
      "source": [
        "# Calculate percent point function of 0.6\n",
        "geom.ppf(q=0.6, p=0.3)"
      ],
      "metadata": {
        "colab": {
          "base_uri": "https://localhost:8080/"
        },
        "id": "qeFl6lJpKW0O",
        "outputId": "d747cc4a-19d6-49e9-cd6e-dff1a3eb62f8"
      },
      "execution_count": 12,
      "outputs": [
        {
          "output_type": "execute_result",
          "data": {
            "text/plain": [
              "3.0"
            ]
          },
          "metadata": {},
          "execution_count": 12
        }
      ]
    },
    {
      "cell_type": "markdown",
      "source": [
        "### Muestreo"
      ],
      "metadata": {
        "id": "WRs9Pa3F-fCo"
      }
    },
    {
      "cell_type": "code",
      "source": [
        "# Import poisson, matplotlib.pyplot, and seaborn\n",
        "from scipy.stats import geom\n",
        "import matplotlib.pyplot as plt\n",
        "import numpy as np\n",
        "import seaborn as sns"
      ],
      "metadata": {
        "id": "3hGmomSb-kfe"
      },
      "execution_count": 4,
      "outputs": []
    },
    {
      "cell_type": "code",
      "source": [
        "# Create the sample using geom.rvs()\n",
        "sample = geom.rvs(p=0.3, size=10000, random_state=13)"
      ],
      "metadata": {
        "id": "_sVTQ_bh-p5T"
      },
      "execution_count": 5,
      "outputs": []
    },
    {
      "cell_type": "code",
      "source": [
        "# Plot the sample\n",
        "sns.distplot(sample, bins = np.linspace(0,20,21), kde=False)\n",
        "plt.show()"
      ],
      "metadata": {
        "colab": {
          "base_uri": "https://localhost:8080/",
          "height": 320
        },
        "id": "tQq_0nAC-td3",
        "outputId": "3bec7afc-fff1-43b2-a616-386784060a3d"
      },
      "execution_count": 6,
      "outputs": [
        {
          "output_type": "stream",
          "name": "stderr",
          "text": [
            "/usr/local/lib/python3.8/dist-packages/seaborn/distributions.py:2619: FutureWarning: `distplot` is a deprecated function and will be removed in a future version. Please adapt your code to use either `displot` (a figure-level function with similar flexibility) or `histplot` (an axes-level function for histograms).\n",
            "  warnings.warn(msg, FutureWarning)\n"
          ]
        },
        {
          "output_type": "display_data",
          "data": {
            "text/plain": [
              "<Figure size 432x288 with 1 Axes>"
            ],
            "image/png": "[encoded data removed]"
          },
          "metadata": {
            "needs_background": "light"
          }
        }
      ]
    },
    {
      "cell_type": "code",
      "source": [],
      "metadata": {
        "id": "UF0DNnGi-vmI"
      },
      "execution_count": null,
      "outputs": []
    }
  ]
}